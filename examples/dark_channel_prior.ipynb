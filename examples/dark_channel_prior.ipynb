{
 "cells": [
  {
   "cell_type": "code",
   "execution_count": 2,
   "id": "9b103be0-0fd4-429c-8778-acb5b9e58ef1",
   "metadata": {},
   "outputs": [],
   "source": [
    "import cv2\n",
    "import numpy as np\n",
    "\n",
    "def dark_channel_prior(image, patch_size=15, omega=0.95):\n",
    "    \"\"\"\n",
    "    应用暗通道先验抑制强光。\n",
    "    \n",
    "    :param image: 输入图像（BGR）\n",
    "    :param patch_size: 局部patch大小\n",
    "    :param omega: 控制透射率的强度\n",
    "    :return: 处理后的图像\n",
    "    \"\"\"\n",
    "    image = image.astype(np.float32) / 255.0\n",
    "    min_channel = np.min(image, axis=2)\n",
    "    \n",
    "    # 计算暗通道\n",
    "    dark_channel = cv2.erode(min_channel, np.ones((patch_size, patch_size)))\n",
    "    \n",
    "    # 估计大气光\n",
    "    num_pixels = image.shape[0] * image.shape[1]\n",
    "    flat_dark = dark_channel.flatten()\n",
    "    indices = np.argsort(flat_dark)[-int(0.001 * num_pixels):]\n",
    "    atmospheric_light = np.max(image.reshape(-1, 3)[indices], axis=0)\n",
    "    \n",
    "    # 计算透射率\n",
    "    transmission = 1 - omega * dark_channel\n",
    "    \n",
    "    # 恢复图像\n",
    "    result = np.zeros_like(image)\n",
    "    for i in range(3):\n",
    "        result[:, :, i] = (image[:, :, i] - atmospheric_light[i]) / np.maximum(transmission, 0.1) + atmospheric_light[i]\n",
    "    \n",
    "    result = np.clip(result * 255, 0, 255).astype(np.uint8)\n",
    "    return result\n",
    "\n",
    "# 读取视频流\n",
    "cap = cv2.VideoCapture('highway_n.avi')  # 替换为你的视频路径\n",
    "\n",
    "while cap.isOpened():\n",
    "    ret, frame = cap.read()\n",
    "    if not ret:\n",
    "        break\n",
    "    \n",
    "    # 应用暗通道先验\n",
    "    processed_frame = dark_channel_prior(frame)\n",
    "    \n",
    "    # 显示原始和处理后的帧\n",
    "    cv2.imshow('Original', frame)\n",
    "    cv2.imshow('Dark Channel Processed', processed_frame)\n",
    "    if cv2.waitKey(1) & 0xFF == ord('q'):\n",
    "        break\n",
    "\n",
    "cap.release()\n",
    "cv2.destroyAllWindows()"
   ]
  },
  {
   "cell_type": "code",
   "execution_count": null,
   "id": "321caf23-1259-4421-b125-129ed1953abe",
   "metadata": {},
   "outputs": [],
   "source": []
  }
 ],
 "metadata": {
  "kernelspec": {
   "display_name": "Python 3 (ipykernel)",
   "language": "python",
   "name": "python3"
  },
  "language_info": {
   "codemirror_mode": {
    "name": "ipython",
    "version": 3
   },
   "file_extension": ".py",
   "mimetype": "text/x-python",
   "name": "python",
   "nbconvert_exporter": "python",
   "pygments_lexer": "ipython3",
   "version": "3.12.9"
  }
 },
 "nbformat": 4,
 "nbformat_minor": 5
}
