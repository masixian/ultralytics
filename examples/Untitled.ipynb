{
 "cells": [
  {
   "cell_type": "code",
   "execution_count": 2,
   "id": "0f5bd1eb-5f0b-4bd7-88ee-1bcf3bfa15c7",
   "metadata": {},
   "outputs": [
    {
     "name": "stdout",
     "output_type": "stream",
     "text": [
      "2.7.0+cpu\n",
      "False\n"
     ]
    }
   ],
   "source": [
    "import torch\n",
    "print(torch.__version__)          # 输出：2.0.1+cu118\n",
    "print(torch.cuda.is_available()) # 输出：True"
   ]
  },
  {
   "cell_type": "code",
   "execution_count": null,
   "id": "3f268722-eeca-47a2-9c54-1276019dac3c",
   "metadata": {},
   "outputs": [],
   "source": []
  }
 ],
 "metadata": {
  "kernelspec": {
   "display_name": "Python 3 (ipykernel)",
   "language": "python",
   "name": "python3"
  },
  "language_info": {
   "codemirror_mode": {
    "name": "ipython",
    "version": 3
   },
   "file_extension": ".py",
   "mimetype": "text/x-python",
   "name": "python",
   "nbconvert_exporter": "python",
   "pygments_lexer": "ipython3",
   "version": "3.12.9"
  }
 },
 "nbformat": 4,
 "nbformat_minor": 5
}
